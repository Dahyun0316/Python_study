{
 "cells": [
  {
   "cell_type": "markdown",
   "id": "e5836a2f",
   "metadata": {},
   "source": [
    "# 데이터 구조"
   ]
  },
  {
   "cell_type": "markdown",
   "id": "b38fd5aa",
   "metadata": {},
   "source": [
    "# 1. 리스트\n",
    "## 1.1 리스트 만들기"
   ]
  },
  {
   "cell_type": "code",
   "execution_count": 45,
   "id": "2c6aca69",
   "metadata": {},
   "outputs": [
    {
     "name": "stdout",
     "output_type": "stream",
     "text": [
      "0번째 과일은 Watermelon입니다\n",
      "1번째 과일은 2입니다\n",
      "2번째 과일은 banana입니다\n",
      "3번째 과일은 True입니다\n"
     ]
    }
   ],
   "source": [
    "# 리스트에는 문자열, 숫자 동시에 들어갈 수 있음\n",
    "\n",
    "# 안 좋은 방법\n",
    "fruits = [\"Watermelon\", 2, \"banana\", True]\n",
    "for i in range(len(fruits)):\n",
    "    print(\"{}번째 과일은 {}입니다\".format(i,fruits[i]))"
   ]
  },
  {
   "cell_type": "code",
   "execution_count": 46,
   "id": "455393a5",
   "metadata": {},
   "outputs": [
    {
     "name": "stdout",
     "output_type": "stream",
     "text": [
      "0번째 과일은 Watermelon입니다\n",
      "1번째 과일은 2입니다\n",
      "2번째 과일은 banana입니다\n",
      "3번째 과일은 True입니다\n"
     ]
    }
   ],
   "source": [
    "# 더 좋은 방법\n",
    "# enumerate는 항상 순서대로 index와 data를 반환\n",
    "for idx, value in enumerate(fruits):\n",
    "    print(\"{}번째 과일은 {}입니다\".format(idx,value))"
   ]
  },
  {
   "cell_type": "code",
   "execution_count": 47,
   "id": "1138431e",
   "metadata": {},
   "outputs": [
    {
     "name": "stdout",
     "output_type": "stream",
     "text": [
      "0 Watermelon\n",
      "1 2\n",
      "2 banana\n",
      "3 True\n"
     ]
    }
   ],
   "source": [
    "for idx, value in enumerate(fruits):\n",
    "    print(idx,value)"
   ]
  },
  {
   "cell_type": "markdown",
   "id": "e257512e",
   "metadata": {},
   "source": [
    "## 1.2 요소 추가\n",
    "- **tap하면 완성됨**"
   ]
  },
  {
   "cell_type": "code",
   "execution_count": 48,
   "id": "b952028c",
   "metadata": {},
   "outputs": [
    {
     "name": "stdout",
     "output_type": "stream",
     "text": [
      "[1, 2, 3, 1, 2, 3]\n",
      "[1, 2, 3, 1, 2, 3, 1, 2, 3]\n"
     ]
    }
   ],
   "source": [
    "numbers = [1,2,3]\n",
    "# 뒤에 열의 값으로 추가된다, 곱하면 반복\n",
    "print(numbers + numbers); print(numbers*3)"
   ]
  },
  {
   "cell_type": "code",
   "execution_count": 49,
   "id": "f526ec5a",
   "metadata": {},
   "outputs": [
    {
     "name": "stdout",
     "output_type": "stream",
     "text": [
      "[1, 2, 3, 4]\n"
     ]
    }
   ],
   "source": [
    "# 추가할 때는 append\n",
    "\n",
    "numbers.append(4)\n",
    "print(numbers)"
   ]
  },
  {
   "cell_type": "code",
   "execution_count": 50,
   "id": "fe7940fa",
   "metadata": {},
   "outputs": [
    {
     "name": "stdout",
     "output_type": "stream",
     "text": [
      "[1, 2, 3, 4, 5]\n"
     ]
    }
   ],
   "source": [
    "numbers += [5]\n",
    "print(numbers)"
   ]
  },
  {
   "cell_type": "code",
   "execution_count": 51,
   "id": "7e1dfd91",
   "metadata": {},
   "outputs": [
    {
     "data": {
      "text/plain": [
       "[1, 2, 3, 4, 5, 6, 7, 8]"
      ]
     },
     "execution_count": 51,
     "metadata": {},
     "output_type": "execute_result"
    }
   ],
   "source": [
    "numbers2 = [6,7,8]\n",
    "# numbers.append(numbers2) -> [1, 2, 3, 4, 5, [7, 8]]\n",
    "numbers.extend(numbers2) # 자료형에 맞춰서 값만 넣어주는 역할 👍\n",
    "numbers"
   ]
  },
  {
   "cell_type": "markdown",
   "id": "599390ab",
   "metadata": {},
   "source": [
    "# 1.3 인덱스 "
   ]
  },
  {
   "cell_type": "code",
   "execution_count": 52,
   "id": "46387045",
   "metadata": {},
   "outputs": [
    {
     "name": "stdout",
     "output_type": "stream",
     "text": [
      "2가 몇 개야?1\n"
     ]
    }
   ],
   "source": [
    "numbers = [1,2,3,[1,2,3],'cool']\n",
    "print(\"2가 몇 개야?{}\".format(numbers.count(2)))"
   ]
  },
  {
   "cell_type": "code",
   "execution_count": 53,
   "id": "c34778a2",
   "metadata": {},
   "outputs": [
    {
     "data": {
      "text/plain": [
       "True"
      ]
     },
     "execution_count": 53,
     "metadata": {},
     "output_type": "execute_result"
    }
   ],
   "source": [
    "2 in numbers"
   ]
  },
  {
   "cell_type": "code",
   "execution_count": 54,
   "id": "a3d2a0d5",
   "metadata": {},
   "outputs": [
    {
     "data": {
      "text/plain": [
       "True"
      ]
     },
     "execution_count": 54,
     "metadata": {},
     "output_type": "execute_result"
    }
   ],
   "source": [
    "\"cool\" in numbers"
   ]
  },
  {
   "cell_type": "code",
   "execution_count": 55,
   "id": "b04e122a",
   "metadata": {},
   "outputs": [
    {
     "data": {
      "text/plain": [
       "4"
      ]
     },
     "execution_count": 55,
     "metadata": {},
     "output_type": "execute_result"
    }
   ],
   "source": [
    "numbers.index(\"cool\") # 몇 번쨰에 있는 요소인지 인덱스 알려줌"
   ]
  },
  {
   "cell_type": "markdown",
   "id": "d8f279a8",
   "metadata": {},
   "source": [
    "## 1.4 리스트의 원하는 내용만 추출\n",
    "- 슬라이싱\n",
    "- **리스트 컴프리핸션 : 많이 쓰임!🚨**"
   ]
  },
  {
   "cell_type": "code",
   "execution_count": 56,
   "id": "2da1fcb7",
   "metadata": {},
   "outputs": [
    {
     "data": {
      "text/plain": [
       "[1, 2, 3, 4, 5, 6, 7, 8, 9, 10, 11, 12, 13, 14, 15, 16, 17, 18, 19]"
      ]
     },
     "execution_count": 56,
     "metadata": {},
     "output_type": "execute_result"
    }
   ],
   "source": [
    "numbers = list(range(1,20))\n",
    "numbers"
   ]
  },
  {
   "cell_type": "code",
   "execution_count": 57,
   "id": "b42b5f21",
   "metadata": {},
   "outputs": [
    {
     "data": {
      "text/plain": [
       "[2, 4, 6, 8, 10, 12, 14, 16, 18]"
      ]
     },
     "execution_count": 57,
     "metadata": {},
     "output_type": "execute_result"
    }
   ],
   "source": [
    "numbers[1::2]"
   ]
  },
  {
   "cell_type": "code",
   "execution_count": 58,
   "id": "7e485c6f",
   "metadata": {},
   "outputs": [
    {
     "data": {
      "text/plain": [
       "[2, 4, 6, 8, 10, 12, 14, 16, 18]"
      ]
     },
     "execution_count": 58,
     "metadata": {},
     "output_type": "execute_result"
    }
   ],
   "source": [
    "answer = []\n",
    "for num in numbers:\n",
    "    if num%2==0:\n",
    "        answer.append(num)\n",
    "answer"
   ]
  },
  {
   "cell_type": "code",
   "execution_count": 59,
   "id": "0b955efd",
   "metadata": {},
   "outputs": [
    {
     "data": {
      "text/plain": [
       "[2, 4, 6, 8, 10, 12, 14, 16, 18]"
      ]
     },
     "execution_count": 59,
     "metadata": {},
     "output_type": "execute_result"
    }
   ],
   "source": [
    "# 리스트 컴프리핸션~!\n",
    "answer = [num for num in numbers if num%2==0]\n",
    "answer"
   ]
  },
  {
   "cell_type": "code",
   "execution_count": 60,
   "id": "b286e2c1",
   "metadata": {},
   "outputs": [
    {
     "data": {
      "text/plain": [
       "[1, 4, 9, 16, 25, 36, 49, 64, 81]"
      ]
     },
     "execution_count": 60,
     "metadata": {},
     "output_type": "execute_result"
    }
   ],
   "source": [
    "numbers = list(range(1,10))\n",
    "answer = [num**2 for num in numbers]\n",
    "answer"
   ]
  },
  {
   "cell_type": "markdown",
   "id": "390d34fa",
   "metadata": {},
   "source": [
    "## 1.5 삭제하기\n",
    "- remove(data) : 해당 data가 제거 \n",
    "- del 리스트[idx] : idx 번째 요소 제거\n",
    "- pop() : 가장 마지막 인덱스 요소가 return되고 삭제됨"
   ]
  },
  {
   "cell_type": "code",
   "execution_count": 62,
   "id": "cfa99c31",
   "metadata": {},
   "outputs": [
    {
     "data": {
      "text/plain": [
       "[1, 3, 5, 7, 9]"
      ]
     },
     "execution_count": 62,
     "metadata": {},
     "output_type": "execute_result"
    }
   ],
   "source": [
    "numbers = list(range(1,10,2))\n",
    "numbers"
   ]
  },
  {
   "cell_type": "code",
   "execution_count": 63,
   "id": "9cb8ccb6",
   "metadata": {},
   "outputs": [
    {
     "data": {
      "text/plain": [
       "9"
      ]
     },
     "execution_count": 63,
     "metadata": {},
     "output_type": "execute_result"
    }
   ],
   "source": [
    "# 마지막 값만 삭제한 후 출력\n",
    "numbers.pop() "
   ]
  },
  {
   "cell_type": "code",
   "execution_count": 64,
   "id": "47d9ec11",
   "metadata": {},
   "outputs": [
    {
     "data": {
      "text/plain": [
       "[3, 5, 7]"
      ]
     },
     "execution_count": 64,
     "metadata": {},
     "output_type": "execute_result"
    }
   ],
   "source": [
    "# 값을 기준으로 삭제\n",
    "numbers.remove(1)\n",
    "numbers"
   ]
  },
  {
   "cell_type": "code",
   "execution_count": 65,
   "id": "9f0b7912",
   "metadata": {},
   "outputs": [
    {
     "data": {
      "text/plain": [
       "[3, 5]"
      ]
     },
     "execution_count": 65,
     "metadata": {},
     "output_type": "execute_result"
    }
   ],
   "source": [
    "# 인덱스 기준으로 삭제\n",
    "del numbers[2]\n",
    "numbers"
   ]
  },
  {
   "cell_type": "markdown",
   "id": "9ef0ee8c",
   "metadata": {},
   "source": [
    "## 1.6 정렬하기"
   ]
  },
  {
   "cell_type": "code",
   "execution_count": 73,
   "id": "e611a869",
   "metadata": {},
   "outputs": [
    {
     "data": {
      "text/plain": [
       "[7, 1, 2, 45, 67, 7, 3, 66, 8, 3]"
      ]
     },
     "execution_count": 73,
     "metadata": {},
     "output_type": "execute_result"
    }
   ],
   "source": [
    "numbers = [7,1,2,45,67,7,3,66,8,3]\n",
    "numbers"
   ]
  },
  {
   "cell_type": "code",
   "execution_count": 74,
   "id": "7db42b98",
   "metadata": {},
   "outputs": [
    {
     "data": {
      "text/plain": [
       "[67, 66, 45, 8, 7, 7, 3, 3, 2, 1]"
      ]
     },
     "execution_count": 74,
     "metadata": {},
     "output_type": "execute_result"
    }
   ],
   "source": [
    "# 내림차순으로 정렬하고 싶으면 reverse=True를 사용\n",
    "numbers.sort(reverse=True)\n",
    "numbers"
   ]
  },
  {
   "cell_type": "code",
   "execution_count": null,
   "id": "56b699d0",
   "metadata": {},
   "outputs": [],
   "source": [
    "numbers_asc = sorted(numbers)\n",
    "numbers_asc"
   ]
  },
  {
   "cell_type": "markdown",
   "id": "d36504e3",
   "metadata": {},
   "source": [
    "## 1.7 리스트 복제"
   ]
  },
  {
   "cell_type": "code",
   "execution_count": 83,
   "id": "af20cca0",
   "metadata": {},
   "outputs": [],
   "source": [
    "numbers = [6,1,2]\n",
    "new_numbers = numbers\n",
    "numbers.sort()"
   ]
  },
  {
   "cell_type": "code",
   "execution_count": 78,
   "id": "b84b9077",
   "metadata": {},
   "outputs": [
    {
     "name": "stdout",
     "output_type": "stream",
     "text": [
      "[1, 2, 6] [1, 2, 6]\n"
     ]
    }
   ],
   "source": [
    "# new_numbers도 바뀐 것 확인 : 얕은 복사\n",
    "print(numbers, new_numbers)"
   ]
  },
  {
   "cell_type": "code",
   "execution_count": 87,
   "id": "86bbad3a",
   "metadata": {},
   "outputs": [
    {
     "data": {
      "text/plain": [
       "[6, 1, 2]"
      ]
     },
     "execution_count": 87,
     "metadata": {},
     "output_type": "execute_result"
    }
   ],
   "source": [
    "# 깊은 복사 (복사한 내용의 영향을 받지 않는다)\n",
    "numbers = [6,1,2]\n",
    "new_numbers2 = numbers.copy()\n",
    "numbers.sort()\n",
    "new_numbers2"
   ]
  },
  {
   "cell_type": "markdown",
   "id": "fa3f3d01",
   "metadata": {},
   "source": [
    "# 2. 튜플"
   ]
  },
  {
   "cell_type": "markdown",
   "id": "2d8a402c",
   "metadata": {},
   "source": [
    "- 리스트와 유사하지만 읽기용\n",
    "- 소괄호 이용"
   ]
  },
  {
   "cell_type": "code",
   "execution_count": 90,
   "id": "cbeb212d",
   "metadata": {},
   "outputs": [
    {
     "data": {
      "text/plain": [
       "list"
      ]
     },
     "execution_count": 90,
     "metadata": {},
     "output_type": "execute_result"
    }
   ],
   "source": [
    "list_example = ['서울']\n",
    "type(list_example)"
   ]
  },
  {
   "cell_type": "code",
   "execution_count": 92,
   "id": "57e252d9",
   "metadata": {},
   "outputs": [
    {
     "name": "stdout",
     "output_type": "stream",
     "text": [
      "<class 'str'>\n",
      "<class 'tuple'>\n"
     ]
    }
   ],
   "source": [
    "tuple_example = ('서울')\n",
    "print(type(tuple_example))\n",
    "# 하나만 있으면 튜플로 인식 못함, 한개 하면 ,을 넣어주어야 한다!\n",
    "\n",
    "tuple_example2 = ('서울',)\n",
    "print(type(tuple_example2))"
   ]
  },
  {
   "cell_type": "markdown",
   "id": "4d4105e9",
   "metadata": {},
   "source": [
    "# 3. 딕셔너리"
   ]
  },
  {
   "cell_type": "markdown",
   "id": "14dfb4c1",
   "metadata": {},
   "source": [
    "- 구조체와 유사\n",
    "    - {}를 이용해서 생성, key-value쌍으로 구성\n",
    "    - 값은 중복 가능하나, key는 중복 불가\n",
    "    - index를 이용한 참조 불가 "
   ]
  },
  {
   "cell_type": "code",
   "execution_count": 94,
   "id": "5c9ce050",
   "metadata": {},
   "outputs": [
    {
     "data": {
      "text/plain": [
       "{'name': 'Dahyun', 'Age': 27}"
      ]
     },
     "execution_count": 94,
     "metadata": {},
     "output_type": "execute_result"
    }
   ],
   "source": [
    "dict = {'name':'Dahyun', 'Age':27}\n",
    "dict"
   ]
  },
  {
   "cell_type": "code",
   "execution_count": 95,
   "id": "dfbe45e2",
   "metadata": {},
   "outputs": [
    {
     "data": {
      "text/plain": [
       "27"
      ]
     },
     "execution_count": 95,
     "metadata": {},
     "output_type": "execute_result"
    }
   ],
   "source": [
    "dict['Age']"
   ]
  },
  {
   "cell_type": "code",
   "execution_count": 100,
   "id": "123d2c34",
   "metadata": {},
   "outputs": [
    {
     "name": "stdout",
     "output_type": "stream",
     "text": [
      "27\n",
      "None\n"
     ]
    }
   ],
   "source": [
    "print(dict.get('Age'))\n",
    "print(dict.get('Height')) \n",
    "# get을 쓰면 없는 key값을 넣어도 에러가 나지 않는다."
   ]
  },
  {
   "cell_type": "code",
   "execution_count": 101,
   "id": "f5dcf122",
   "metadata": {},
   "outputs": [],
   "source": [
    "dict['Height'] = 163\n",
    "dict"
   ]
  },
  {
   "cell_type": "code",
   "execution_count": 103,
   "id": "ca8c3839",
   "metadata": {},
   "outputs": [
    {
     "data": {
      "text/plain": [
       "163"
      ]
     },
     "execution_count": 103,
     "metadata": {},
     "output_type": "execute_result"
    }
   ],
   "source": [
    "dict.pop('Height')\n",
    "# 마지막 값 "
   ]
  },
  {
   "cell_type": "code",
   "execution_count": 105,
   "id": "c86064f1",
   "metadata": {},
   "outputs": [
    {
     "data": {
      "text/plain": [
       "{'name': 'Dahyun', 'Age': 27, 'Food': ('No cheese', 'Korean Food')}"
      ]
     },
     "execution_count": 105,
     "metadata": {},
     "output_type": "execute_result"
    }
   ],
   "source": [
    "dict['Food'] = (\"No cheese\",\"Korean Food\")\n",
    "dict"
   ]
  },
  {
   "cell_type": "code",
   "execution_count": 106,
   "id": "5a975c43",
   "metadata": {},
   "outputs": [
    {
     "name": "stdout",
     "output_type": "stream",
     "text": [
      "name\n",
      "Age\n",
      "Food\n"
     ]
    }
   ],
   "source": [
    "# 반복문 사용하면 key 값만 반환\n",
    "for key in dict:\n",
    "    print(key)"
   ]
  },
  {
   "cell_type": "code",
   "execution_count": 108,
   "id": "12ce2bba",
   "metadata": {},
   "outputs": [
    {
     "data": {
      "text/plain": [
       "dict_keys(['name', 'Age', 'Food'])"
      ]
     },
     "execution_count": 108,
     "metadata": {},
     "output_type": "execute_result"
    }
   ],
   "source": [
    "# key값 반환 받고 싶을 때\n",
    "dict.keys()"
   ]
  },
  {
   "cell_type": "code",
   "execution_count": 109,
   "id": "46540bc1",
   "metadata": {},
   "outputs": [
    {
     "data": {
      "text/plain": [
       "dict_values(['Dahyun', 27, ('No cheese', 'Korean Food')])"
      ]
     },
     "execution_count": 109,
     "metadata": {},
     "output_type": "execute_result"
    }
   ],
   "source": [
    "# value값 반환 받고 싶을 때\n",
    "dict.values()"
   ]
  },
  {
   "cell_type": "code",
   "execution_count": 110,
   "id": "aa093c95",
   "metadata": {},
   "outputs": [
    {
     "data": {
      "text/plain": [
       "dict_items([('name', 'Dahyun'), ('Age', 27), ('Food', ('No cheese', 'Korean Food'))])"
      ]
     },
     "execution_count": 110,
     "metadata": {},
     "output_type": "execute_result"
    }
   ],
   "source": [
    "# key, value값 둘 다 반환 받고 싶을 때\n",
    "dict.items()"
   ]
  },
  {
   "cell_type": "code",
   "execution_count": 113,
   "id": "706117c0",
   "metadata": {},
   "outputs": [
    {
     "name": "stdout",
     "output_type": "stream",
     "text": [
      "키값은 : name, 밸류값은 : Dahyun\n",
      "키값은 : Age, 밸류값은 : 27\n",
      "키값은 : Food, 밸류값은 : ('No cheese', 'Korean Food')\n"
     ]
    }
   ],
   "source": [
    "for key,values in dict.items():\n",
    "    print(\"키값은 : {}, 밸류값은 : {}\".format(key,values))"
   ]
  },
  {
   "cell_type": "code",
   "execution_count": 117,
   "id": "dc99071a",
   "metadata": {},
   "outputs": [
    {
     "name": "stdout",
     "output_type": "stream",
     "text": [
      "True\n",
      "False\n"
     ]
    }
   ],
   "source": [
    "print(\"name\" in dict)\n",
    "print(\"Dahyun\" in dict)"
   ]
  },
  {
   "cell_type": "markdown",
   "id": "71355734",
   "metadata": {},
   "source": [
    "# 4. 셋"
   ]
  },
  {
   "cell_type": "markdown",
   "id": "b189e62a",
   "metadata": {},
   "source": [
    "- 중복을 허용하지 않는 리스트(집합)\n",
    "    - 순서가 없다(인덱스가 없다)"
   ]
  },
  {
   "cell_type": "code",
   "execution_count": 120,
   "id": "7a620ac5",
   "metadata": {},
   "outputs": [
    {
     "name": "stdout",
     "output_type": "stream",
     "text": [
      "{5, 23, 24, 12, 'no_data', 44}\n"
     ]
    }
   ],
   "source": [
    "student_age ={12,44,24,12,23,5, \"no_data\"}\n",
    "print(student_age)\n",
    "# 중복 자동 제거, 순서(인덱스) 없음\n",
    "# 겹치지 않는 숫자 조합 만들 때"
   ]
  },
  {
   "cell_type": "code",
   "execution_count": 122,
   "id": "c4b83171",
   "metadata": {},
   "outputs": [
    {
     "name": "stdout",
     "output_type": "stream",
     "text": [
      "{5, 23, 24, 42, 12, 'no_data', 44}\n"
     ]
    }
   ],
   "source": [
    "student_age.add(42)\n",
    "print(student_age)\n",
    "# 겹치면 다시 안 넣어줌"
   ]
  },
  {
   "cell_type": "markdown",
   "id": "c226fc9e",
   "metadata": {},
   "source": [
    "# 5. 연습문제"
   ]
  },
  {
   "cell_type": "code",
   "execution_count": 125,
   "id": "7133acfa",
   "metadata": {},
   "outputs": [],
   "source": [
    "del list"
   ]
  },
  {
   "cell_type": "code",
   "execution_count": 155,
   "id": "618a13a5",
   "metadata": {},
   "outputs": [
    {
     "data": {
      "text/plain": [
       "[1, 2, 3, 4, 5, 6, 7, 8, 9, 10]"
      ]
     },
     "execution_count": 155,
     "metadata": {},
     "output_type": "execute_result"
    }
   ],
   "source": [
    "numbers =list(range(1,11))\n",
    "numbers"
   ]
  },
  {
   "cell_type": "code",
   "execution_count": 133,
   "id": "692af265",
   "metadata": {},
   "outputs": [
    {
     "data": {
      "text/plain": [
       "[1, 2, 3, 4, 5, 6, 7, 8, 9, 10, 100, 100]"
      ]
     },
     "execution_count": 133,
     "metadata": {},
     "output_type": "execute_result"
    }
   ],
   "source": [
    "numbers.append(100)\n",
    "numbers"
   ]
  },
  {
   "cell_type": "code",
   "execution_count": 138,
   "id": "dda97dc9",
   "metadata": {},
   "outputs": [
    {
     "data": {
      "text/plain": [
       "100"
      ]
     },
     "execution_count": 138,
     "metadata": {},
     "output_type": "execute_result"
    }
   ],
   "source": [
    "numbers.pop()"
   ]
  },
  {
   "cell_type": "code",
   "execution_count": 139,
   "id": "2e9b2f48",
   "metadata": {},
   "outputs": [],
   "source": [
    "del numbers[9]"
   ]
  },
  {
   "cell_type": "code",
   "execution_count": 140,
   "id": "f3bb7f2a",
   "metadata": {},
   "outputs": [
    {
     "data": {
      "text/plain": [
       "[1, 2, 3, 4, 5, 6, 7, 8, 9, 100]"
      ]
     },
     "execution_count": 140,
     "metadata": {},
     "output_type": "execute_result"
    }
   ],
   "source": [
    "numbers"
   ]
  },
  {
   "cell_type": "code",
   "execution_count": 142,
   "id": "ccd897d2",
   "metadata": {},
   "outputs": [
    {
     "data": {
      "text/plain": [
       "[1, 2, 3, 4, 5]"
      ]
     },
     "execution_count": 142,
     "metadata": {},
     "output_type": "execute_result"
    }
   ],
   "source": [
    "numbers[:5:1]"
   ]
  },
  {
   "cell_type": "code",
   "execution_count": 143,
   "id": "94068a0f",
   "metadata": {},
   "outputs": [
    {
     "data": {
      "text/plain": [
       "[2, 4, 6, 8, 100]"
      ]
     },
     "execution_count": 143,
     "metadata": {},
     "output_type": "execute_result"
    }
   ],
   "source": [
    "numbers[1::2]"
   ]
  },
  {
   "cell_type": "code",
   "execution_count": 157,
   "id": "60375b4d",
   "metadata": {},
   "outputs": [
    {
     "name": "stdout",
     "output_type": "stream",
     "text": [
      "[1, 0, 3, 0, 5, 0, 7, 0, 9, 0]\n"
     ]
    }
   ],
   "source": [
    "for num in range(1,len(numbers),2):\n",
    "    numbers[num] = 0\n",
    "print(numbers)"
   ]
  }
 ],
 "metadata": {
  "kernelspec": {
   "display_name": "Python 3 (ipykernel)",
   "language": "python",
   "name": "python3"
  },
  "language_info": {
   "codemirror_mode": {
    "name": "ipython",
    "version": 3
   },
   "file_extension": ".py",
   "mimetype": "text/x-python",
   "name": "python",
   "nbconvert_exporter": "python",
   "pygments_lexer": "ipython3",
   "version": "3.11.4"
  }
 },
 "nbformat": 4,
 "nbformat_minor": 5
}
