{
 "cells": [
  {
   "cell_type": "markdown",
   "id": "abf5bdd6",
   "metadata": {},
   "source": [
    "# 제어문"
   ]
  },
  {
   "cell_type": "markdown",
   "id": "da79aa00",
   "metadata": {},
   "source": [
    "# 1. if 문"
   ]
  },
  {
   "cell_type": "code",
   "execution_count": 1,
   "id": "d43a16fe",
   "metadata": {},
   "outputs": [],
   "source": [
    "# score = int(input(\"성적을 입력하세요.\"))\n",
    "score = 96.553"
   ]
  },
  {
   "cell_type": "code",
   "execution_count": 2,
   "id": "0e98ef18",
   "metadata": {},
   "outputs": [
    {
     "name": "stdout",
     "output_type": "stream",
     "text": [
      "당신의 점수는 96.55, 성적은 A입니다\n"
     ]
    }
   ],
   "source": [
    "if 80 <= score <= 100:\n",
    "    grade = 'A'\n",
    "elif 60 <= score < 80:\n",
    "    grade = 'B'\n",
    "elif 0 <= score < 60:\n",
    "    grade = 'C'    \n",
    "else :\n",
    "    grade = 'Out of range'\n",
    "print(\"당신의 점수는 {:.2f}, 성적은 {}입니다\".format(score, grade))"
   ]
  },
  {
   "cell_type": "markdown",
   "id": "ac04413a",
   "metadata": {},
   "source": [
    "# 2. for-in문\n",
    "```\n",
    "for 변수 in 나열이 가능한 자료형:\n",
    "    반복할 문장1\n",
    "    반복할 문장2\n",
    "else:\n",
    "    변수에 값이 할당되지 않은 경우 한번 실행할 문장(else구문 선택사항)\n",
    "    for문 안에 break가 있을 경우 else블럭 수행되지 않음]\n",
    "```"
   ]
  },
  {
   "cell_type": "markdown",
   "id": "57388f9a",
   "metadata": {},
   "source": [
    "# 3. while문\n",
    "```\n",
    "while 조건:\n",
    "    반복문장1\n",
    "    반복문장2\n",
    "else:\n",
    "    조건이 거짓일 경우 한번 수행할 문장(else는 선택사항)\n",
    "    while문 내 break를 통해서 빠져 나올때는 else블럭은 수행하지 않음\n",
    "```"
   ]
  },
  {
   "cell_type": "code",
   "execution_count": 3,
   "id": "842fc4e6",
   "metadata": {},
   "outputs": [
    {
     "name": "stdout",
     "output_type": "stream",
     "text": [
      "55\n"
     ]
    }
   ],
   "source": [
    "# 1-10까지 while문을 이용해서 더하기\n",
    "total = 0\n",
    "i = 1\n",
    "while i <= 10:\n",
    "    total += i\n",
    "    i += 1\n",
    "print(total) "
   ]
  },
  {
   "cell_type": "code",
   "execution_count": 8,
   "id": "f2ee92f5",
   "metadata": {},
   "outputs": [
    {
     "name": "stdout",
     "output_type": "stream",
     "text": [
      "30\n"
     ]
    }
   ],
   "source": [
    "# 짝수 더하기\n",
    "total = 0\n",
    "i = 0\n",
    "while i <= 10:\n",
    "    if i%2==0:\n",
    "        total += i\n",
    "    i += 1\n",
    "print(total) "
   ]
  },
  {
   "cell_type": "markdown",
   "id": "630842b8",
   "metadata": {},
   "source": [
    "# 4. break, continue"
   ]
  },
  {
   "cell_type": "code",
   "execution_count": 18,
   "id": "3f7055b3",
   "metadata": {},
   "outputs": [
    {
     "name": "stdout",
     "output_type": "stream",
     "text": [
      "1\n",
      "2\n",
      "4\n",
      "5\n",
      "7\n",
      "8\n",
      "10\n"
     ]
    }
   ],
   "source": [
    "num = 0\n",
    "i = 0\n",
    "\n",
    "while i <= 9:\n",
    "    i += 1\n",
    "    if i%3 == 0:\n",
    "        continue\n",
    "#         break\n",
    "    print (i)"
   ]
  },
  {
   "cell_type": "markdown",
   "id": "ac91a12b",
   "metadata": {},
   "source": [
    "# 5. 이중루프"
   ]
  },
  {
   "cell_type": "code",
   "execution_count": 32,
   "id": "9732714a",
   "metadata": {},
   "outputs": [
    {
     "name": "stdout",
     "output_type": "stream",
     "text": [
      "1 x 1 = 1  1 x 2 = 2  1 x 3 = 3  1 x 4 = 4  1 x 5 = 5  1 x 6 = 6  1 x 7 = 7  1 x 8 = 8  1 x 9 = 9  \n",
      "2 x 1 = 2  2 x 2 = 4  2 x 3 = 6  2 x 4 = 8  2 x 5 = 10  2 x 6 = 12  2 x 7 = 14  2 x 8 = 16  2 x 9 = 18  \n",
      "3 x 1 = 3  3 x 2 = 6  3 x 3 = 9  3 x 4 = 12  3 x 5 = 15  3 x 6 = 18  3 x 7 = 21  3 x 8 = 24  3 x 9 = 27  \n",
      "4 x 1 = 4  4 x 2 = 8  4 x 3 = 12  4 x 4 = 16  4 x 5 = 20  4 x 6 = 24  4 x 7 = 28  4 x 8 = 32  4 x 9 = 36  \n",
      "5 x 1 = 5  5 x 2 = 10  5 x 3 = 15  5 x 4 = 20  5 x 5 = 25  5 x 6 = 30  5 x 7 = 35  5 x 8 = 40  5 x 9 = 45  \n",
      "6 x 1 = 6  6 x 2 = 12  6 x 3 = 18  6 x 4 = 24  6 x 5 = 30  6 x 6 = 36  6 x 7 = 42  6 x 8 = 48  6 x 9 = 54  \n",
      "7 x 1 = 7  7 x 2 = 14  7 x 3 = 21  7 x 4 = 28  7 x 5 = 35  7 x 6 = 42  7 x 7 = 49  7 x 8 = 56  7 x 9 = 63  \n",
      "8 x 1 = 8  8 x 2 = 16  8 x 3 = 24  8 x 4 = 32  8 x 5 = 40  8 x 6 = 48  8 x 7 = 56  8 x 8 = 64  8 x 9 = 72  \n",
      "9 x 1 = 9  9 x 2 = 18  9 x 3 = 27  9 x 4 = 36  9 x 5 = 45  9 x 6 = 54  9 x 7 = 63  9 x 8 = 72  9 x 9 = 81  \n"
     ]
    }
   ],
   "source": [
    "for i in range(1,10):\n",
    "    for j in range(1,10):\n",
    "        print(\"{} x {} = {}\".format(i,j,i*j), end = '  ' )\n",
    "    print() # 밖에다 print 한번 더 하면 j가 마치는 걸 기준으로 줄 바꿈이 이루어짐"
   ]
  },
  {
   "cell_type": "code",
   "execution_count": 34,
   "id": "df4f729a",
   "metadata": {},
   "outputs": [
    {
     "name": "stdout",
     "output_type": "stream",
     "text": [
      "1 x 1 = 1  2 x 1 = 2  3 x 1 = 3  4 x 1 = 4  5 x 1 = 5  6 x 1 = 6  7 x 1 = 7  8 x 1 = 8  9 x 1 = 9  \n",
      "1 x 2 = 2  2 x 2 = 4  3 x 2 = 6  4 x 2 = 8  5 x 2 = 10  6 x 2 = 12  7 x 2 = 14  8 x 2 = 16  9 x 2 = 18  \n",
      "1 x 3 = 3  2 x 3 = 6  3 x 3 = 9  4 x 3 = 12  5 x 3 = 15  6 x 3 = 18  7 x 3 = 21  8 x 3 = 24  9 x 3 = 27  \n",
      "1 x 4 = 4  2 x 4 = 8  3 x 4 = 12  4 x 4 = 16  5 x 4 = 20  6 x 4 = 24  7 x 4 = 28  8 x 4 = 32  9 x 4 = 36  \n",
      "1 x 5 = 5  2 x 5 = 10  3 x 5 = 15  4 x 5 = 20  5 x 5 = 25  6 x 5 = 30  7 x 5 = 35  8 x 5 = 40  9 x 5 = 45  \n",
      "1 x 6 = 6  2 x 6 = 12  3 x 6 = 18  4 x 6 = 24  5 x 6 = 30  6 x 6 = 36  7 x 6 = 42  8 x 6 = 48  9 x 6 = 54  \n",
      "1 x 7 = 7  2 x 7 = 14  3 x 7 = 21  4 x 7 = 28  5 x 7 = 35  6 x 7 = 42  7 x 7 = 49  8 x 7 = 56  9 x 7 = 63  \n",
      "1 x 8 = 8  2 x 8 = 16  3 x 8 = 24  4 x 8 = 32  5 x 8 = 40  6 x 8 = 48  7 x 8 = 56  8 x 8 = 64  9 x 8 = 72  \n",
      "1 x 9 = 9  2 x 9 = 18  3 x 9 = 27  4 x 9 = 36  5 x 9 = 45  6 x 9 = 54  7 x 9 = 63  8 x 9 = 72  9 x 9 = 81  \n"
     ]
    }
   ],
   "source": [
    "for i in range(1,10):\n",
    "    for j in range(1,10):\n",
    "        print(\"{} x {} = {}\".format(j,i,i*j), end = '  ' )\n",
    "    print()"
   ]
  },
  {
   "cell_type": "code",
   "execution_count": 41,
   "id": "ff5d229f",
   "metadata": {},
   "outputs": [
    {
     "name": "stdout",
     "output_type": "stream",
     "text": [
      "29\n",
      "77\n"
     ]
    }
   ],
   "source": [
    "import random\n",
    "random.seed()\n",
    "\n",
    "print(random.randint(1,100))\n",
    "print(random.randint(1,100))"
   ]
  },
  {
   "cell_type": "markdown",
   "id": "ec632b61",
   "metadata": {},
   "source": [
    "# 6. 예제"
   ]
  },
  {
   "cell_type": "code",
   "execution_count": 46,
   "id": "f421d953",
   "metadata": {},
   "outputs": [
    {
     "name": "stdout",
     "output_type": "stream",
     "text": [
      "1~100 사이의 랜덤한 값을 알아맞추세요 >>50\n",
      "50 와 100 사이의 값을 입력하세요(남은 기회:4번)>>\n",
      "75\n",
      "75 와 100 사이의 값을 입력하세요(남은 기회:3번)>>\n",
      "88\n",
      "88 와 100 사이의 값을 입력하세요(남은 기회:2번)>>\n",
      "95\n",
      "95 와 100 사이의 값을 입력하세요(남은 기회:1번)>>\n",
      "97\n",
      "실패했습니다! 정답은 99입니다.\n"
     ]
    }
   ],
   "source": [
    "import random\n",
    "random.seed()\n",
    "answer = random.randint(1,100)\n",
    "input_num = int(input(\"1~100 사이의 랜덤한 값을 알아맞추세요 >>\"))\n",
    "min_val =1; max_val = 100\n",
    "for i in range (4,0,-1):\n",
    "    # \"|\"는 or의 의미를 담고 있다\n",
    "    if (input_num < min_val)|(input_num > max_val):\n",
    "        print(\"수의 범위를 벗어났습니다.\")\n",
    "        print(\"{} 와 {} 사이의 값을 입력하세요(남은 기회:{}번)>>\".format(min_val,max_val,i))\n",
    "        input_num = int(input())\n",
    "        # ❓이거 왜 마지막에... 다시 input 창 띄어주는건가?\n",
    "    elif answer == input_num:\n",
    "        print(\"정답입니다!🎉 {}번만에 답을 맞추었습니다!\".format(i))\n",
    "        break\n",
    "    elif answer > input_num:\n",
    "        min_val = input_num\n",
    "        print(\"{} 와 {} 사이의 값을 입력하세요(남은 기회:{}번)>>\".format(min_val,max_val,i))\n",
    "        input_num = int(input())\n",
    "    elif answer < input_num:\n",
    "        max_val = input_num\n",
    "        print(\"{} 와 {} 사이의 값을 입력하세요(남은 기회:{}번)>>\".format(min_val,max_val,i))\n",
    "        input_num = int(input())\n",
    "else:\n",
    "    print('실패했습니다! 정답은 {}입니다🥲'.format(answer))]\n",
    "# ❓마지막 else 문은 밖으로 빼주는 이유는?"
   ]
  },
  {
   "cell_type": "code",
   "execution_count": 61,
   "id": "398164ec",
   "metadata": {},
   "outputs": [
    {
     "data": {
      "text/plain": [
       "[3, 8, 18, 19, 31, 34, 43]"
      ]
     },
     "execution_count": 61,
     "metadata": {},
     "output_type": "execute_result"
    }
   ],
   "source": [
    "# 1-45 사이의 로또 번호를 출력하고 정렬하여 출력\n",
    "import random\n",
    "random.seed()\n",
    "\n",
    "lottery = set()\n",
    "while len(lottery)<=6:\n",
    "    lottery.add(random.randint(1,45))\n",
    "sorted(list(lottery))"
   ]
  }
 ],
 "metadata": {
  "kernelspec": {
   "display_name": "Python 3 (ipykernel)",
   "language": "python",
   "name": "python3"
  },
  "language_info": {
   "codemirror_mode": {
    "name": "ipython",
    "version": 3
   },
   "file_extension": ".py",
   "mimetype": "text/x-python",
   "name": "python",
   "nbconvert_exporter": "python",
   "pygments_lexer": "ipython3",
   "version": "3.11.4"
  }
 },
 "nbformat": 4,
 "nbformat_minor": 5
}
