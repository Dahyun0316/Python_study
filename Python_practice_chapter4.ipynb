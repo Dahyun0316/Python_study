{
 "cells": [
  {
   "cell_type": "markdown",
   "id": "7f4b9400",
   "metadata": {},
   "source": [
    "# 함수\n",
    "    \n",
    "    - 반복해서 사용할 코드를 묶어서 구현\n",
    "    - 같은 이름의 함수는 덮어씀(오버로딩 불가)\n",
    "    - 함수 정의(구현)\n",
    "    \n",
    "    ```\n",
    "        def 함수명([인수(매개변수)1, 인수2,...]):\n",
    "            명령어 1\n",
    "            명령어 2        \n",
    "    ```"
   ]
  },
  {
   "cell_type": "markdown",
   "id": "affecf8a",
   "metadata": {},
   "source": [
    "## 1. 함수의 정의 및 사용\n",
    "### 1.1 함수 정의"
   ]
  },
  {
   "cell_type": "code",
   "execution_count": 1,
   "id": "c5383df9",
   "metadata": {},
   "outputs": [
    {
     "name": "stdout",
     "output_type": "stream",
     "text": [
      "0 hello!\n",
      "1 hello!\n",
      "2 hello!\n"
     ]
    }
   ],
   "source": [
    "# 변수를 따로 지정해주지 않아도 순서대로 들어간다.\n",
    "def hello(x, msg):\n",
    "    for i in range(x):\n",
    "        print(i,msg)\n",
    "        \n",
    "hello(3,\"hello!\")"
   ]
  },
  {
   "cell_type": "code",
   "execution_count": 9,
   "id": "3d598a9b",
   "metadata": {},
   "outputs": [
    {
     "name": "stdout",
     "output_type": "stream",
     "text": [
      "6\n",
      "3\n",
      "3\n"
     ]
    }
   ],
   "source": [
    "# default 값 설정 가능\n",
    "def my_add(n1,n2,n3=0):\n",
    "    return n1+n2+n3\n",
    "\n",
    "print(my_add(1,2,3))\n",
    "print(my_add(1,2,))\n",
    "print(my_add(1,2))"
   ]
  },
  {
   "cell_type": "markdown",
   "id": "f182600c",
   "metadata": {},
   "source": [
    "### 1.2 Docstring.\n",
    "- 함수의 도움말을 shift + tap 으로 확인할 수 있다."
   ]
  },
  {
   "cell_type": "markdown",
   "id": "eb5bb7d8",
   "metadata": {},
   "source": [
    "### 1.3 지역변수(local var) 전역변수(global var)"
   ]
  },
  {
   "cell_type": "code",
   "execution_count": 12,
   "id": "580d82a4",
   "metadata": {},
   "outputs": [
    {
     "name": "stdout",
     "output_type": "stream",
     "text": [
      "100\n"
     ]
    }
   ],
   "source": [
    "# 함수 밖에서 지정해주는 변수는 모두 전역변수\n",
    "global_var = 100 #전역변수\n",
    "def function1():\n",
    "    print(global_var)\n",
    "\n",
    "# 전역 변수가 선언되었음으로 따로 지정해주지 않아도 됨\n",
    "function1()"
   ]
  },
  {
   "cell_type": "code",
   "execution_count": 13,
   "id": "d586155e",
   "metadata": {},
   "outputs": [
    {
     "name": "stdout",
     "output_type": "stream",
     "text": [
      "200\n",
      "100\n"
     ]
    }
   ],
   "source": [
    "global_var = 100  # 전역변수\n",
    "def function2():\n",
    "    global_var = 200  # 지역변수\n",
    "    print(global_var)\n",
    "    \n",
    "function2()\n",
    "print(global_var)"
   ]
  },
  {
   "cell_type": "code",
   "execution_count": 15,
   "id": "0251188b",
   "metadata": {},
   "outputs": [
    {
     "name": "stdout",
     "output_type": "stream",
     "text": [
      "200\n",
      "200\n"
     ]
    }
   ],
   "source": [
    "global_var = 100  # 전역변수\n",
    "def function2():\n",
    "    global global_var  # 지역변수를 전역변수로\n",
    "    global_var = 200 \n",
    "    print(global_var)\n",
    "    \n",
    "function2()\n",
    "print(global_var)"
   ]
  },
  {
   "cell_type": "markdown",
   "id": "ecc6400f",
   "metadata": {},
   "source": [
    "## 2. 함수의 실행결과를 반환하는 return\n",
    "   - 여러개의 값을 반환할 수 있다 (하나의 튜플로 반환)"
   ]
  },
  {
   "cell_type": "code",
   "execution_count": 20,
   "id": "55b54de9",
   "metadata": {},
   "outputs": [],
   "source": [
    "def swap(a,b):\n",
    "    return b,a"
   ]
  },
  {
   "cell_type": "code",
   "execution_count": 21,
   "id": "15305674",
   "metadata": {},
   "outputs": [
    {
     "name": "stdout",
     "output_type": "stream",
     "text": [
      "함수 실행 전 x=5, y=10\n",
      "함수 실행 후 x=10, y=5\n"
     ]
    }
   ],
   "source": [
    "x, y = 5, 10  # 자동적으로 (5, 10)으로 인식함\n",
    "print(\"함수 실행 전 x={}, y={}\".format(x,y))\n",
    "x, y = swap(x,y)\n",
    "print(\"함수 실행 후 x={}, y={}\".format(x,y))"
   ]
  },
  {
   "cell_type": "markdown",
   "id": "8f7e4505",
   "metadata": {},
   "source": [
    "## 3. 함수의 매개변수\n",
    "### 3.1 기본값을 갖는 매개변수"
   ]
  },
  {
   "cell_type": "code",
   "execution_count": null,
   "id": "38704ea3",
   "metadata": {},
   "outputs": [],
   "source": [
    "# 반드시 순서인수(기본값이 없는 인수), 기본값을 갖는 인수(키워드 인수 아님) 순으로 와야함\n",
    "def make_url(ip, port=80):\n",
    "    return \"http://{}:{}\".format(ip,port)"
   ]
  },
  {
   "cell_type": "markdown",
   "id": "591f30c7",
   "metadata": {},
   "source": [
    "### 3.2 튜플 매개변수를 이용한 가변인수(인수갯수가 가변) 설정"
   ]
  },
  {
   "cell_type": "code",
   "execution_count": 22,
   "id": "ad78badc",
   "metadata": {},
   "outputs": [
    {
     "name": "stdout",
     "output_type": "stream",
     "text": [
      "Hello World\n"
     ]
    }
   ],
   "source": [
    "print(\"Hello\",\"World\") # 대표적인 가변인수"
   ]
  },
  {
   "cell_type": "code",
   "execution_count": 24,
   "id": "d545b7c9",
   "metadata": {},
   "outputs": [],
   "source": [
    "def add(*args): # *args : 어떤 값이든 튜플로 묶어서 받음\n",
    "    sum = 0\n",
    "    for num in args:\n",
    "        sum += num\n",
    "    return sum"
   ]
  },
  {
   "cell_type": "code",
   "execution_count": 33,
   "id": "cd9c6ab3",
   "metadata": {},
   "outputs": [
    {
     "data": {
      "text/plain": [
       "15"
      ]
     },
     "execution_count": 33,
     "metadata": {},
     "output_type": "execute_result"
    }
   ],
   "source": [
    "add(1,2,3,4,5)\n",
    "add(*[1,2,3,4,5]) \n",
    "# 리스트 자료형을 넣고 싶을 때는 *을 붙여서 tuple 형식으로 바꿔서 넣어줘야 한다."
   ]
  },
  {
   "cell_type": "code",
   "execution_count": 32,
   "id": "9428716a",
   "metadata": {},
   "outputs": [
    {
     "data": {
      "text/plain": [
       "4950"
      ]
     },
     "execution_count": 32,
     "metadata": {},
     "output_type": "execute_result"
    }
   ],
   "source": [
    "add(*range(1,100))"
   ]
  },
  {
   "cell_type": "code",
   "execution_count": 38,
   "id": "3526df7d",
   "metadata": {},
   "outputs": [
    {
     "data": {
      "text/plain": [
       "30"
      ]
     },
     "execution_count": 38,
     "metadata": {},
     "output_type": "execute_result"
    }
   ],
   "source": [
    "# 잘못된 방식\n",
    "def function(*args,x): \n",
    "    sum = 0\n",
    "    for num in args:\n",
    "        sum += num\n",
    "    return sum*x \n",
    "\n",
    "function(1,2,3,4,5, x=2)\n",
    "# function(*[1,2,3,4,5], 2)"
   ]
  },
  {
   "cell_type": "code",
   "execution_count": 40,
   "id": "5303af09",
   "metadata": {},
   "outputs": [
    {
     "data": {
      "text/plain": [
       "14"
      ]
     },
     "execution_count": 40,
     "metadata": {},
     "output_type": "execute_result"
    }
   ],
   "source": [
    "# 옳은 방식\n",
    "def function2(x, *args): \n",
    "    sum = 0\n",
    "    for num in args:\n",
    "        sum += num\n",
    "    return sum*x \n",
    "\n",
    "function2(1,2,3,4,5)"
   ]
  },
  {
   "cell_type": "code",
   "execution_count": 52,
   "id": "e1f4f032",
   "metadata": {},
   "outputs": [
    {
     "ename": "TypeError",
     "evalue": "concat() missing 1 required keyword-only argument: 'sep'",
     "output_type": "error",
     "traceback": [
      "\u001b[0;31m---------------------------------------------------------------------------\u001b[0m",
      "\u001b[0;31mTypeError\u001b[0m                                 Traceback (most recent call last)",
      "Cell \u001b[0;32mIn[52], line 3\u001b[0m\n\u001b[1;32m      1\u001b[0m \u001b[38;5;28;01mdef\u001b[39;00m \u001b[38;5;21mconcat\u001b[39m(\u001b[38;5;241m*\u001b[39margs, sep):\n\u001b[1;32m      2\u001b[0m     \u001b[38;5;28;01mreturn\u001b[39;00m sep\u001b[38;5;241m.\u001b[39mjoin(args) \n\u001b[0;32m----> 3\u001b[0m concat(\u001b[38;5;124m\"\u001b[39m\u001b[38;5;124mC\u001b[39m\u001b[38;5;124m\"\u001b[39m , \u001b[38;5;124m\"\u001b[39m\u001b[38;5;124mPython\u001b[39m\u001b[38;5;124m\"\u001b[39m, \u001b[38;5;124m\"\u001b[39m\u001b[38;5;124mOracle\u001b[39m\u001b[38;5;124m\"\u001b[39m, \u001b[38;5;124m\"\u001b[39m\u001b[38;5;124m~\u001b[39m\u001b[38;5;124m\"\u001b[39m)\n",
      "\u001b[0;31mTypeError\u001b[0m: concat() missing 1 required keyword-only argument: 'sep'"
     ]
    }
   ],
   "source": [
    "def concat(*args, sep):\n",
    "    return sep.join(args) \n",
    "concat(\"C\" , \"Python\", \"Oracle\", \"~\")"
   ]
  },
  {
   "cell_type": "code",
   "execution_count": 53,
   "id": "8fc78ffa",
   "metadata": {},
   "outputs": [
    {
     "data": {
      "text/plain": [
       "'C~Python~Oracle'"
      ]
     },
     "execution_count": 53,
     "metadata": {},
     "output_type": "execute_result"
    }
   ],
   "source": [
    "# 해결책 1 \n",
    "def concat(*args, sep):\n",
    "    return sep.join(args) \n",
    "concat(\"C\" , \"Python\", \"Oracle\", sep = \"~\")"
   ]
  },
  {
   "cell_type": "code",
   "execution_count": 54,
   "id": "deec8939",
   "metadata": {},
   "outputs": [
    {
     "data": {
      "text/plain": [
       "'C~Python~Oracle'"
      ]
     },
     "execution_count": 54,
     "metadata": {},
     "output_type": "execute_result"
    }
   ],
   "source": [
    "# 해결책 2 -> 반드시 이 방법을 따라야함\n",
    "# 순서인수를 튜플인수 앞에 써야함 \n",
    "def concat(sep, *args):    # 기본값을 받는 인수는 튜플인수 뒤에옴\n",
    "    return sep.join(args) \n",
    "concat(\"~\", \"C\" , \"Python\", \"Oracle\")"
   ]
  },
  {
   "cell_type": "code",
   "execution_count": 55,
   "id": "738b3d5d",
   "metadata": {},
   "outputs": [
    {
     "data": {
      "text/plain": [
       "'C~Python~Oracle'"
      ]
     },
     "execution_count": 55,
     "metadata": {},
     "output_type": "execute_result"
    }
   ],
   "source": [
    "# 해결책 3\n",
    "def concat(*args, sep = \"/\"):  # 순서:  순서인수 > 튜플인수 > 키워드 인수\n",
    "    return sep.join(args) \n",
    "# 키워드 인수를 사용할 때는 무조건 sep = \"~\"을 해줘야함\n",
    "concat(\"C\" , \"Python\", \"Oracle\", sep = \"~\")"
   ]
  },
  {
   "cell_type": "markdown",
   "id": "3958289e",
   "metadata": {},
   "source": [
    "### 3.3 딕셔너리 매개변수"
   ]
  },
  {
   "cell_type": "code",
   "execution_count": 56,
   "id": "85332dd5",
   "metadata": {},
   "outputs": [
    {
     "name": "stdout",
     "output_type": "stream",
     "text": [
      "{'name': '홍길동', 'age': 20}\n",
      "<class 'dict'>\n"
     ]
    }
   ],
   "source": [
    "def func(**args):  # **은 args가 딕셔너리로 전달 \n",
    "    print(args)\n",
    "    print(type(args))\n",
    "func(name = \"홍길동\", age = 20)"
   ]
  },
  {
   "cell_type": "code",
   "execution_count": 57,
   "id": "d2372c2f",
   "metadata": {},
   "outputs": [
    {
     "name": "stdout",
     "output_type": "stream",
     "text": [
      "name : 홍길동\n",
      "age : 20\n"
     ]
    }
   ],
   "source": [
    "def func(**args):  # **은 args가 딕셔너리로 전달 \n",
    "    for key, value in args.items():\n",
    "        print(\"{} : {}\".format(key, value))\n",
    "func(name = \"홍길동\", age = 20)"
   ]
  },
  {
   "cell_type": "code",
   "execution_count": 58,
   "id": "2803ebdb",
   "metadata": {},
   "outputs": [
    {
     "name": "stdout",
     "output_type": "stream",
     "text": [
      "game_name : 서바이벌c\n",
      "year : 2024\n",
      "price : 33000\n"
     ]
    }
   ],
   "source": [
    "func(game_name = \"서바이벌c\", year = 2024, price = 33000)"
   ]
  },
  {
   "cell_type": "markdown",
   "id": "654d5c94",
   "metadata": {},
   "source": [
    "### 3.4 함수 정의 시 매개변수의 순서\n",
    "   **순서인수 > 튜플인수(*) > 키워드 인수(매개변수 이름을 명시) > 딕셔너리 인수(**) "
   ]
  },
  {
   "cell_type": "code",
   "execution_count": 59,
   "id": "c1fcbc08",
   "metadata": {},
   "outputs": [],
   "source": [
    "def func(a, b, c, *d, e=10, **f):\n",
    "    print('a = ', a)\n",
    "    print('b = ', b)\n",
    "    print('c = ', c)\n",
    "    print('d = ', d)\n",
    "    print('e = ', e)\n",
    "    print('f = ', f)"
   ]
  },
  {
   "cell_type": "code",
   "execution_count": 60,
   "id": "e992bad7",
   "metadata": {},
   "outputs": [
    {
     "name": "stdout",
     "output_type": "stream",
     "text": [
      "a =  10\n",
      "b =  20\n",
      "c =  30\n",
      "d =  (1, 2, 3, 4, 5)\n",
      "e =  100\n",
      "f =  {'height': 180, 'name': '홍길동', 'address': '서울시'}\n"
     ]
    }
   ],
   "source": [
    "func(10,20,30,1,2,3,4,5,e=100, height=180, name=\"홍길동\", address=\"서울시\")"
   ]
  },
  {
   "cell_type": "code",
   "execution_count": 61,
   "id": "9a2a808e",
   "metadata": {},
   "outputs": [
    {
     "name": "stdout",
     "output_type": "stream",
     "text": [
      "a =  10\n",
      "b =  20\n",
      "c =  30\n",
      "d =  (1, 2, 3, 4, 5)\n",
      "e =  10\n",
      "f =  {'height': 180, 'name': '홍길동', 'address': '서울시'}\n"
     ]
    }
   ],
   "source": [
    "func(10,20,30,1,2,3,4,5, height=180, name=\"홍길동\", address=\"서울시\")"
   ]
  },
  {
   "cell_type": "markdown",
   "id": "f58fe326",
   "metadata": {},
   "source": [
    "### 3.5 인수의 언패킹\n"
   ]
  },
  {
   "cell_type": "code",
   "execution_count": 62,
   "id": "77709183",
   "metadata": {},
   "outputs": [],
   "source": [
    "# 튜플 인수 언패킹\n",
    "def add(*args):\n",
    "    sum = 0\n",
    "    for num in args:\n",
    "        sum += num\n",
    "    return sum"
   ]
  },
  {
   "cell_type": "code",
   "execution_count": 63,
   "id": "0c6e50c8",
   "metadata": {},
   "outputs": [
    {
     "data": {
      "text/plain": [
       "21"
      ]
     },
     "execution_count": 63,
     "metadata": {},
     "output_type": "execute_result"
    }
   ],
   "source": [
    "data = (1,2,3,4,5,6)\n",
    "add(*data)  #data 가 이미 tuple 변수이므로 *data 해주면 튜플이 풀림 "
   ]
  },
  {
   "cell_type": "code",
   "execution_count": 65,
   "id": "d718505a",
   "metadata": {},
   "outputs": [
    {
     "name": "stdout",
     "output_type": "stream",
     "text": [
      "name : 홍길동\n",
      "age : 20\n"
     ]
    }
   ],
   "source": [
    "# 딕셔너리 인수 언패킹\n",
    "def func(**args):  # **은 args가 딕셔너리로 전달 \n",
    "    for key, value in args.items():\n",
    "        print(\"{} : {}\".format(key, value))\n",
    "func(name = \"홍길동\", age = 20)"
   ]
  },
  {
   "cell_type": "code",
   "execution_count": null,
   "id": "3b509041",
   "metadata": {},
   "outputs": [],
   "source": [
    "dic = {\"name\" : \"홍길동\", \"age\" : 30}\n",
    "func(**dic)"
   ]
  },
  {
   "cell_type": "markdown",
   "id": "7643ebc8",
   "metadata": {},
   "source": [
    "## 4. 람다식\n",
    "    - 람다식은 *작은 익명함수*를 의미함\n",
    "    - 실행할 문장을 한문장만 작성할 수 있음\n",
    "    - 리스트 컴프리헨션과 같이 참조해서 학습 추천\n",
    "    - map(), filter()에서 사용할 예정"
   ]
  },
  {
   "cell_type": "code",
   "execution_count": 68,
   "id": "e8864ee0",
   "metadata": {},
   "outputs": [
    {
     "data": {
      "text/plain": [
       "11"
      ]
     },
     "execution_count": 68,
     "metadata": {},
     "output_type": "execute_result"
    }
   ],
   "source": [
    "add_1 = lambda a, b :a+b\n",
    "add_1(1,10)"
   ]
  },
  {
   "cell_type": "code",
   "execution_count": 70,
   "id": "4052b442",
   "metadata": {},
   "outputs": [
    {
     "data": {
      "text/plain": [
       "6"
      ]
     },
     "execution_count": 70,
     "metadata": {},
     "output_type": "execute_result"
    }
   ],
   "source": [
    "(lambda a, b :a*b)(2,3)"
   ]
  },
  {
   "cell_type": "code",
   "execution_count": 71,
   "id": "f0ab84a7",
   "metadata": {},
   "outputs": [],
   "source": [
    "def map_template(func,L=[]):\n",
    "    result = []\n",
    "    for data in L:\n",
    "        result.append(func(data))\n",
    "    return result"
   ]
  },
  {
   "cell_type": "code",
   "execution_count": 72,
   "id": "5b1ef3f0",
   "metadata": {},
   "outputs": [
    {
     "data": {
      "text/plain": [
       "[1, 4, 9, 16, 25, 36, 49, 64, 81, 100]"
      ]
     },
     "execution_count": 72,
     "metadata": {},
     "output_type": "execute_result"
    }
   ],
   "source": [
    "l_data = [1,2,3,4,5,6,7,8,9,10]\n",
    "map_template(lambda a:a**2, l_data)"
   ]
  },
  {
   "cell_type": "code",
   "execution_count": 73,
   "id": "dc97b454",
   "metadata": {},
   "outputs": [
    {
     "data": {
      "text/plain": [
       "[1, 4, 9, 16, 25, 36, 49, 64, 81, 100]"
      ]
     },
     "execution_count": 73,
     "metadata": {},
     "output_type": "execute_result"
    }
   ],
   "source": [
    "# map은 l_data의 리스트 값을 받아서, lambda 함수 처리 후 append\n",
    "list(map(lambda a:a**2, l_data)) "
   ]
  },
  {
   "cell_type": "code",
   "execution_count": 74,
   "id": "f85a18bf",
   "metadata": {},
   "outputs": [
    {
     "data": {
      "text/plain": [
       "[2, 4, 6, 8, 10]"
      ]
     },
     "execution_count": 74,
     "metadata": {},
     "output_type": "execute_result"
    }
   ],
   "source": [
    "# filter는 l_data의 리스트 값을 받아서, lambda 함수의 조건 처리 후(무조건 조건문~), 적합한 값만 append\n",
    "list(filter(lambda a: a%2==0, l_data)) "
   ]
  }
 ],
 "metadata": {
  "kernelspec": {
   "display_name": "Python 3 (ipykernel)",
   "language": "python",
   "name": "python3"
  },
  "language_info": {
   "codemirror_mode": {
    "name": "ipython",
    "version": 3
   },
   "file_extension": ".py",
   "mimetype": "text/x-python",
   "name": "python",
   "nbconvert_exporter": "python",
   "pygments_lexer": "ipython3",
   "version": "3.11.4"
  }
 },
 "nbformat": 4,
 "nbformat_minor": 5
}
