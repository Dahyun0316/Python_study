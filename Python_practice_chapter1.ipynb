{
 "cells": [
  {
   "cell_type": "markdown",
   "id": "c3a4be8d",
   "metadata": {},
   "source": [
    "# 1. 문자형"
   ]
  },
  {
   "cell_type": "code",
   "execution_count": 1,
   "id": "c09c548c",
   "metadata": {},
   "outputs": [
    {
     "name": "stdout",
     "output_type": "stream",
     "text": [
      "숫자를 입력하세요16\n"
     ]
    },
    {
     "data": {
      "text/plain": [
       "'16'"
      ]
     },
     "execution_count": 1,
     "metadata": {},
     "output_type": "execute_result"
    }
   ],
   "source": [
    "first = input(\"숫자를 입력하세요\")\n",
    "# input은 무조건 str로 받음\n",
    "first"
   ]
  },
  {
   "cell_type": "code",
   "execution_count": 2,
   "id": "102e884c",
   "metadata": {
    "scrolled": true
   },
   "outputs": [
    {
     "name": "stdout",
     "output_type": "stream",
     "text": [
      "숫자를 입력하세요16\n"
     ]
    }
   ],
   "source": [
    "first = int(input(\"숫자를 입력하세요\"))\n",
    "# input은 무조건 str로 받기 때문에 밖에 int를 쳐 주면 정수형으로 받을 수 있게됨"
   ]
  },
  {
   "cell_type": "code",
   "execution_count": 4,
   "id": "319da48b",
   "metadata": {},
   "outputs": [
    {
     "name": "stdout",
     "output_type": "stream",
     "text": [
      "첫번째 숫자를 입력하세요1\n",
      "두번째 숫자를 입력하세요2\n",
      "두 수의 합은 3입니다.\n"
     ]
    }
   ],
   "source": [
    "first = int(input(\"첫번째 숫자를 입력하세요\"))\n",
    "second = int(input(\"두번째 숫자를 입력하세요\"))\n",
    "print(\"두 수의 합은 {}입니다.\".format(first+second))\n",
    "# 꿀팁이세여~~"
   ]
  },
  {
   "cell_type": "code",
   "execution_count": 6,
   "id": "a2ecbc8a",
   "metadata": {
    "scrolled": true
   },
   "outputs": [
    {
     "name": "stdout",
     "output_type": "stream",
     "text": [
      "I❤️love❤️hamburger\tyummy~\n"
     ]
    }
   ],
   "source": [
    "print(\"I\",\"love\",\"hamburger\", sep='❤️', end=\"\\t\")\n",
    "print(\"yummy~\")"
   ]
  },
  {
   "cell_type": "markdown",
   "id": "09c6ecb6",
   "metadata": {},
   "source": [
    "# 2. 숫자형"
   ]
  },
  {
   "cell_type": "code",
   "execution_count": 9,
   "id": "4866a6ec",
   "metadata": {},
   "outputs": [
    {
     "name": "stdout",
     "output_type": "stream",
     "text": [
      "값:1.7\n",
      "값:1.667\n"
     ]
    }
   ],
   "source": [
    "a=5/3\n",
    "print(\"값:{:.1f}\".format(a))\n",
    "print(\"값:{:.3f}\".format(a))"
   ]
  },
  {
   "cell_type": "code",
   "execution_count": 13,
   "id": "72d92be0",
   "metadata": {},
   "outputs": [
    {
     "data": {
      "text/plain": [
       "'3456789'"
      ]
     },
     "execution_count": 13,
     "metadata": {},
     "output_type": "execute_result"
    }
   ],
   "source": [
    "numbers=\"0123456789\"\n",
    "numbers[3:]"
   ]
  },
  {
   "cell_type": "code",
   "execution_count": 16,
   "id": "06d17aa0",
   "metadata": {},
   "outputs": [
    {
     "data": {
      "text/plain": [
       "'02468'"
      ]
     },
     "execution_count": 16,
     "metadata": {},
     "output_type": "execute_result"
    }
   ],
   "source": [
    "numbers[::2]\n",
    "# 2칸씩"
   ]
  },
  {
   "cell_type": "code",
   "execution_count": 17,
   "id": "24b18e01",
   "metadata": {},
   "outputs": [
    {
     "data": {
      "text/plain": [
       "'9876543210'"
      ]
     },
     "execution_count": 17,
     "metadata": {},
     "output_type": "execute_result"
    }
   ],
   "source": [
    "numbers[::-1] \n",
    "# 역순"
   ]
  },
  {
   "cell_type": "code",
   "execution_count": 27,
   "id": "12b512f3",
   "metadata": {},
   "outputs": [
    {
     "data": {
      "text/plain": [
       "'7531'"
      ]
     },
     "execution_count": 27,
     "metadata": {},
     "output_type": "execute_result"
    }
   ],
   "source": [
    "numbers[-3:0:-2]\n",
    "# 뒤에서부터 지정하고 싶을 때는 시작과 끝 지정을 거꾸로 헤줘야 함"
   ]
  },
  {
   "cell_type": "markdown",
   "id": "84dd4d1c",
   "metadata": {},
   "source": [
    "# 3. 논리형"
   ]
  },
  {
   "cell_type": "code",
   "execution_count": null,
   "id": "5db789ce",
   "metadata": {},
   "outputs": [],
   "source": [
    "# True로 간주하는 것 : 0이 아닌 모든 수, \" \" (빈칸이 하나라도 있으면 true), '\\0'\n",
    "# False로 간주하는 것 : 0, None, \"\" (비어 있는 str), '', [], {}, ()"
   ]
  },
  {
   "cell_type": "markdown",
   "id": "60f41704",
   "metadata": {},
   "source": [
    "# 4. 포멧팅"
   ]
  },
  {
   "cell_type": "code",
   "execution_count": 30,
   "id": "f2a0ef5c",
   "metadata": {},
   "outputs": [
    {
     "name": "stdout",
     "output_type": "stream",
     "text": [
      "첫번째 숫자는 10, 두번째 숫자는 20 입니다.\n",
      "두 수의 합은 30입니다.\n"
     ]
    }
   ],
   "source": [
    "first = 10\n",
    "second = 20\n",
    "print(\"첫번째 숫자는 {}, 두번째 숫자는 {} 입니다.\".format(first,second))\n",
    "print(\"두 수의 합은 {}입니다.\".format(first+second))\n",
    "# 꿀팁이세여~~"
   ]
  },
  {
   "cell_type": "markdown",
   "id": "7faf9c74",
   "metadata": {},
   "source": [
    "**format 함수**    \n",
    "    - '{[인덱스]:[공백대체문자][정렬방법][자릿수][타입]}. format(변수명, ....)     \n",
    "    - 정렬방법 : <(왼쪽정렬) >(오른쪽정렬) ^(가운데정렬)   \n",
    "    - 타입 : d(10진수), x(16진수), b(2진수), f(실수), s(문자)   "
   ]
  },
  {
   "cell_type": "code",
   "execution_count": 32,
   "id": "aca8ba49",
   "metadata": {},
   "outputs": [
    {
     "name": "stdout",
     "output_type": "stream",
     "text": [
      "[$$$$$$$$10], [He******************]\n"
     ]
    }
   ],
   "source": [
    "a = 10\n",
    "s = 'Hello'\n",
    "print('[{0:$>10d}], [{1:*<20.2}]'.format(a,s))\n",
    "# >오른쪽 정렬을 한다고 가정했을 때 자릿수가 다른 값들을 배열을 맞춰 정렬하고 싶다면 앞에 채워두기 위한 문제를 지정할 수 있다"
   ]
  },
  {
   "cell_type": "code",
   "execution_count": 35,
   "id": "321fa1d9",
   "metadata": {},
   "outputs": [
    {
     "name": "stdout",
     "output_type": "stream",
     "text": [
      "    1\n",
      "   10\n",
      "  100\n"
     ]
    }
   ],
   "source": [
    "a, b, c = 1,10,100\n",
    "print('{:>5}\\n{:>5}\\n{:>5}'.format(a,b,c))"
   ]
  },
  {
   "cell_type": "markdown",
   "id": "826b6d35",
   "metadata": {},
   "source": [
    "# 5. 비교 연산자"
   ]
  },
  {
   "cell_type": "code",
   "execution_count": 36,
   "id": "a7599682",
   "metadata": {},
   "outputs": [
    {
     "data": {
      "text/plain": [
       "True"
      ]
     },
     "execution_count": 36,
     "metadata": {},
     "output_type": "execute_result"
    }
   ],
   "source": [
    "'아' < '하' #문자끼리도 비교가 가는함"
   ]
  },
  {
   "cell_type": "markdown",
   "id": "aba24508",
   "metadata": {},
   "source": [
    "# 6. 문자열 다루기"
   ]
  },
  {
   "cell_type": "markdown",
   "id": "602474f0",
   "metadata": {},
   "source": [
    "- 문자열 슬라이싱 : 문자변수[From:to:step]\n",
    "- len(문자열) : 문자갯수\n",
    "- 문자열.upper() : 대문자\n",
    "- 문자열.lower() : 소문자\n",
    "- 문자열.title() : 각 단어의 앞글자만 대문자로\n",
    "- 문자열.capitalize() : 첫문자만 대문자로 그 외는 소문자\n",
    "- 문자열.count('찾을문자열') : 찾을 문자열이 몇개 들어있는지 갯수 반환\n",
    "- 문자열.find('찾을문자열') : 찾을 문자열을 왼쪽부터 시작하여 몇번째 인덱스에 있는지 인덱스 반환 없으면 -1 반환\n",
    "- 문자열.rfind('찾을문자열') : 찾을 문자열을 오른쪽부터 시작하여 몇번째 인덱스에 있는지 인덱스 반환\n",
    "- 문자열.startswitch('특정문자열') : 특정문자열로 시작하는지 여부 T/F 반환\n",
    "- 문자열.endswitch('특정문자열') : 특정문자열로 끝나는지 여부 T/F 반환\n",
    "- 문자열.strip() : 좌우공백제거\n",
    "- 문자열.lstrip() : 왼쪽공백제거\n",
    "- 문자열.rstrip() : 오른쪽공백제거\n",
    "- 문자열.isdigit() : 문자열이 숫자 문자열인지 여부 T/F 반환\n",
    "- 문자열.islower() : 문자열이 소문자인지 여부 T/F 반환\n",
    "- 문자열.isupper() : 문자열이 대문자인지 여부 T/F 반환\n",
    "- 문자열.replace(oldStr, newStr) : oldStr을 newStr로 변경    "
   ]
  },
  {
   "cell_type": "code",
   "execution_count": 49,
   "id": "42e913c8",
   "metadata": {
    "scrolled": true
   },
   "outputs": [
    {
     "name": "stdout",
     "output_type": "stream",
     "text": [
      "17\n",
      "대문자로 I LOVE HAMBURGER!\n",
      "1\n",
      "7\n"
     ]
    }
   ],
   "source": [
    "sentence = \"I love hamburger!\"\n",
    "\n",
    "print(len(sentence))\n",
    "print(\"대문자로\", sentence.upper())\n",
    "print(sentence.count(\"I\"))\n",
    "print(sentence.find(\"hamburger\"))"
   ]
  },
  {
   "cell_type": "code",
   "execution_count": 50,
   "id": "c39ffce7",
   "metadata": {},
   "outputs": [
    {
     "data": {
      "text/plain": [
       "'I~love~hamburger!'"
      ]
     },
     "execution_count": 50,
     "metadata": {},
     "output_type": "execute_result"
    }
   ],
   "source": [
    "sentence_splited = sentence.split()\n",
    "'~'.join(sentence_splited)"
   ]
  }
 ],
 "metadata": {
  "kernelspec": {
   "display_name": "Python 3 (ipykernel)",
   "language": "python",
   "name": "python3"
  },
  "language_info": {
   "codemirror_mode": {
    "name": "ipython",
    "version": 3
   },
   "file_extension": ".py",
   "mimetype": "text/x-python",
   "name": "python",
   "nbconvert_exporter": "python",
   "pygments_lexer": "ipython3",
   "version": "3.11.4"
  }
 },
 "nbformat": 4,
 "nbformat_minor": 5
}
