{
  "nbformat": 4,
  "nbformat_minor": 0,
  "metadata": {
    "colab": {
      "provenance": []
    },
    "kernelspec": {
      "name": "python3",
      "display_name": "Python 3"
    },
    "language_info": {
      "name": "python"
    }
  },
  "cells": [
    {
      "cell_type": "markdown",
      "source": [
        "# Git 업로드 하는 방법"
      ],
      "metadata": {
        "id": "Qc-kNX0WtCMs"
      }
    },
    {
      "cell_type": "markdown",
      "source": [
        "!git add .    \n",
        "!git commit -m \"ver.num(마음대로 지정 가능)\"     \n",
        "!git push -u origin main"
      ],
      "metadata": {
        "id": "oH1Sr-oCtHxL"
      }
    },
    {
      "cell_type": "markdown",
      "source": [
        "- 처음부터 연결해야할 때.   "
      ],
      "metadata": {
        "id": "FZsiWkxct-40"
      }
    },
    {
      "cell_type": "code",
      "source": [],
      "metadata": {
        "id": "GXEcB9pHuBbq"
      },
      "execution_count": null,
      "outputs": []
    }
  ]
}